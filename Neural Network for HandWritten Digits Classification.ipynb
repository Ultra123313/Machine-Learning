{
 "cells": [
  {
   "cell_type": "code",
   "execution_count": 1,
   "id": "15a69ca2",
   "metadata": {},
   "outputs": [],
   "source": [
    "import tensorflow as tf\n",
    "from tensorflow import keras\n",
    "import numpy as np\n",
    "import matplotlib.pyplot as plt"
   ]
  },
  {
   "cell_type": "code",
   "execution_count": 2,
   "id": "10c3d0fd",
   "metadata": {},
   "outputs": [],
   "source": [
    "(x_train,y_train),(x_test,y_test)=keras.datasets.mnist.load_data()"
   ]
  },
  {
   "cell_type": "code",
   "execution_count": 3,
   "id": "77078c75",
   "metadata": {},
   "outputs": [
    {
     "data": {
      "text/plain": [
       "(60000, 28, 28)"
      ]
     },
     "execution_count": 3,
     "metadata": {},
     "output_type": "execute_result"
    }
   ],
   "source": [
    "x_train.shape"
   ]
  },
  {
   "cell_type": "code",
   "execution_count": 4,
   "id": "88ab2f0c",
   "metadata": {},
   "outputs": [
    {
     "data": {
      "text/plain": [
       "(10000, 28, 28)"
      ]
     },
     "execution_count": 4,
     "metadata": {},
     "output_type": "execute_result"
    }
   ],
   "source": [
    "x_test.shape"
   ]
  },
  {
   "cell_type": "code",
   "execution_count": 5,
   "id": "06e80b09",
   "metadata": {},
   "outputs": [
    {
     "data": {
      "text/plain": [
       "(60000,)"
      ]
     },
     "execution_count": 5,
     "metadata": {},
     "output_type": "execute_result"
    }
   ],
   "source": [
    "y_train.shape"
   ]
  },
  {
   "cell_type": "code",
   "execution_count": 6,
   "id": "d682f461",
   "metadata": {},
   "outputs": [],
   "source": [
    "x_train_f=x_train.reshape(len(x_train),28*28)\n",
    "x_test_f=x_test.reshape(len(x_test),28*28)"
   ]
  },
  {
   "cell_type": "code",
   "execution_count": 7,
   "id": "203e364e",
   "metadata": {},
   "outputs": [
    {
     "name": "stdout",
     "output_type": "stream",
     "text": [
      "Epoch 1/5\n",
      "1875/1875 [==============================] - 5s 2ms/step - loss: 9.8776 - accuracy: 0.8418\n",
      "Epoch 2/5\n",
      "1875/1875 [==============================] - 4s 2ms/step - loss: 6.1583 - accuracy: 0.8785\n",
      "Epoch 3/5\n",
      "1875/1875 [==============================] - 5s 3ms/step - loss: 5.6414 - accuracy: 0.8842\n",
      "Epoch 4/5\n",
      "1875/1875 [==============================] - 4s 2ms/step - loss: 5.5221 - accuracy: 0.8838\n",
      "Epoch 5/5\n",
      "1875/1875 [==============================] - 4s 2ms/step - loss: 5.3642 - accuracy: 0.8868\n"
     ]
    },
    {
     "data": {
      "text/plain": [
       "<keras.callbacks.History at 0x17cf104fa60>"
      ]
     },
     "execution_count": 7,
     "metadata": {},
     "output_type": "execute_result"
    }
   ],
   "source": [
    "#building a model with only inputs and outpus -----Activation func\n",
    "model=keras.Sequential([\n",
    "    keras.layers.Dense(10,input_shape=(784,),activation='sigmoid')\n",
    "])\n",
    "model.compile(\n",
    "    optimizer='adam',\n",
    "    loss='SparseCategoricalCrossentropy',\n",
    "    metrics=['accuracy']\n",
    ")\n",
    "model.fit(x_train_f,y_train,epochs=5)"
   ]
  },
  {
   "cell_type": "code",
   "execution_count": 8,
   "id": "85aa68d4",
   "metadata": {},
   "outputs": [
    {
     "name": "stdout",
     "output_type": "stream",
     "text": [
      "313/313 [==============================] - 1s 3ms/step - loss: 5.9896 - accuracy: 0.8874\n"
     ]
    },
    {
     "data": {
      "text/plain": [
       "[5.989582538604736, 0.8873999714851379]"
      ]
     },
     "execution_count": 8,
     "metadata": {},
     "output_type": "execute_result"
    }
   ],
   "source": [
    "model.evaluate(x_test_f,y_test)"
   ]
  },
  {
   "cell_type": "code",
   "execution_count": 9,
   "id": "75625a99",
   "metadata": {},
   "outputs": [],
   "source": [
    "#After Scaling The Data\n",
    "x_train=x_train/255\n",
    "x_test=x_test/255"
   ]
  },
  {
   "cell_type": "code",
   "execution_count": 10,
   "id": "49951ac1",
   "metadata": {},
   "outputs": [],
   "source": [
    "x_train_f=x_train.reshape(len(x_train),28*28)\n",
    "x_test_f=x_test.reshape(len(x_test),28*28)\n"
   ]
  },
  {
   "cell_type": "code",
   "execution_count": null,
   "id": "7a46b1d9",
   "metadata": {},
   "outputs": [
    {
     "name": "stdout",
     "output_type": "stream",
     "text": [
      "Epoch 1/5\n",
      "1875/1875 [==============================] - 5s 2ms/step - loss: 0.4733 - accuracy: 0.8770\n",
      "Epoch 2/5\n",
      "1875/1875 [==============================] - 5s 2ms/step - loss: 0.3045 - accuracy: 0.9145\n",
      "Epoch 3/5\n",
      "1875/1875 [==============================] - 5s 3ms/step - loss: 0.2835 - accuracy: 0.9218\n",
      "Epoch 4/5\n",
      "1875/1875 [==============================] - 5s 2ms/step - loss: 0.2736 - accuracy: 0.9234\n",
      "Epoch 5/5\n",
      "1330/1875 [====================>.........] - ETA: 1s - loss: 0.2663 - accuracy: 0.9254"
     ]
    }
   ],
   "source": [
    "#Building a model after Scaling the data\n",
    "model=keras.Sequential([\n",
    "    keras.layers.Dense(10,input_shape=(784,),activation='sigmoid')\n",
    "])\n",
    "model.compile(\n",
    "    optimizer='adam',\n",
    "    loss='SparseCategoricalCrossentropy',\n",
    "    metrics=['accuracy']\n",
    ")\n",
    "model.fit(x_train_f,y_train,epochs=5)"
   ]
  },
  {
   "cell_type": "code",
   "execution_count": null,
   "id": "fa83a8aa",
   "metadata": {},
   "outputs": [],
   "source": [
    "model.evaluate(x_test_f,y_test)"
   ]
  },
  {
   "cell_type": "code",
   "execution_count": null,
   "id": "70fa30bb",
   "metadata": {},
   "outputs": [],
   "source": [
    "#Building a model using Hidden Layers\n",
    "#Building a model after Scaling the data\n",
    "model=keras.Sequential([\n",
    "    keras.layers.Dense(150,input_shape=(784,),activation='sigmoid'),\n",
    "    keras.layers.Dense(100,activation='sigmoid'),\n",
    "    keras.layers.Dense(10,activation='sigmoid')\n",
    "])\n",
    "model.compile(\n",
    "    optimizer='adam',\n",
    "    loss='SparseCategoricalCrossentropy',\n",
    "    metrics=['accuracy']\n",
    ")\n",
    "model.fit(x_train_f,y_train,epochs=6)"
   ]
  },
  {
   "cell_type": "code",
   "execution_count": null,
   "id": "72d89138",
   "metadata": {},
   "outputs": [],
   "source": [
    "model.evaluate(x_test_f,y_test)"
   ]
  },
  {
   "cell_type": "code",
   "execution_count": null,
   "id": "66b570d5",
   "metadata": {},
   "outputs": [],
   "source": [
    "for i in range(0,6):\n",
    "    plt.matshow(x_test[i])"
   ]
  },
  {
   "cell_type": "code",
   "execution_count": null,
   "id": "ebe811b9",
   "metadata": {},
   "outputs": [],
   "source": [
    "y_pred=model.predict(x_test_f)"
   ]
  },
  {
   "cell_type": "code",
   "execution_count": null,
   "id": "f60e1a71",
   "metadata": {},
   "outputs": [],
   "source": [
    "y_pred_labels=[np.argmax(i) for i in y_pred]"
   ]
  },
  {
   "cell_type": "code",
   "execution_count": null,
   "id": "d197f5e5",
   "metadata": {},
   "outputs": [],
   "source": [
    "y_pred_labels[0:5]"
   ]
  },
  {
   "cell_type": "code",
   "execution_count": null,
   "id": "0d8461bf",
   "metadata": {},
   "outputs": [],
   "source": [
    "y_test[0:5]"
   ]
  },
  {
   "cell_type": "code",
   "execution_count": null,
   "id": "3fd16cb6",
   "metadata": {},
   "outputs": [],
   "source": [
    "cm=tf.math.confusion_matrix(y_test,y_pred_labels)\n",
    "cm"
   ]
  },
  {
   "cell_type": "code",
   "execution_count": null,
   "id": "2024b100",
   "metadata": {},
   "outputs": [],
   "source": [
    "import seaborn as sns\n",
    "plt.figure(figsize=(10,7))\n",
    "sns.heatmap(cm,annot=True)\n",
    "plt.xlabel(\"Predicted\")\n",
    "plt.ylabel('True Values')"
   ]
  },
  {
   "cell_type": "code",
   "execution_count": null,
   "id": "751a5485",
   "metadata": {},
   "outputs": [],
   "source": [
    "#Flattening the data using keras method\n",
    "model=keras.Sequential([\n",
    "    keras.layers.Flatten(input_shape=(28,28)),\n",
    "    keras.layers.Dense(10,activation='sigmoid')\n",
    "])\n",
    "model.compile(\n",
    "    optimizer='adam',\n",
    "    loss='SparseCategoricalCrossentropy',\n",
    "    metrics=['accuracy']\n",
    ")\n",
    "model.fit(x_train,y_train,epochs=5)"
   ]
  }
 ],
 "metadata": {
  "kernelspec": {
   "display_name": "Python 3",
   "language": "python",
   "name": "python3"
  },
  "language_info": {
   "codemirror_mode": {
    "name": "ipython",
    "version": 3
   },
   "file_extension": ".py",
   "mimetype": "text/x-python",
   "name": "python",
   "nbconvert_exporter": "python",
   "pygments_lexer": "ipython3",
   "version": "3.8.8"
  }
 },
 "nbformat": 4,
 "nbformat_minor": 5
}
