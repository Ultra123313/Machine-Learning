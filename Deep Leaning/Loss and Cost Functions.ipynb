{
 "cells": [
  {
   "cell_type": "code",
   "execution_count": 1,
   "id": "f8054851",
   "metadata": {},
   "outputs": [],
   "source": [
    "import numpy as np"
   ]
  },
  {
   "cell_type": "code",
   "execution_count": 2,
   "id": "1dfe4d92",
   "metadata": {},
   "outputs": [],
   "source": [
    "y_pred=np.array([0.5,0.88,1.5,3.5,1.7])\n",
    "y_true=np.array([0.7,0.95,2.1,2.5,2.3])"
   ]
  },
  {
   "cell_type": "code",
   "execution_count": 19,
   "id": "57ab60e5",
   "metadata": {},
   "outputs": [],
   "source": [
    "def mae(y_true,y_pred):\n",
    "    total_error=0\n",
    "    for yt,yp in zip(y_true,y_pred):\n",
    "        total_error+=abs(yt-yp)\n",
    "    print(\"Total error :\",total_error)\n",
    "    mae=total_error/len(y_true)\n",
    "    print(mae)"
   ]
  },
  {
   "cell_type": "code",
   "execution_count": 20,
   "id": "1efaaf8d",
   "metadata": {},
   "outputs": [
    {
     "name": "stdout",
     "output_type": "stream",
     "text": [
      "Total error : 2.4699999999999998\n",
      "0.49399999999999994\n"
     ]
    }
   ],
   "source": [
    "mae(y_true,y_pred)"
   ]
  },
  {
   "cell_type": "code",
   "execution_count": 21,
   "id": "880d7872",
   "metadata": {},
   "outputs": [],
   "source": [
    "def mse(y_true,y_pred):\n",
    "    total_error=0\n",
    "    for yt,yp in zip(y_true,y_pred):\n",
    "        total_error+=(abs(yt-yp))**2\n",
    "    print(\"Total error :\",total_error)\n",
    "    mse=total_error/len(y_true)\n",
    "    print(mse)"
   ]
  },
  {
   "cell_type": "code",
   "execution_count": 22,
   "id": "1ec9c73d",
   "metadata": {},
   "outputs": [
    {
     "name": "stdout",
     "output_type": "stream",
     "text": [
      "Total error : 1.7649\n",
      "0.35297999999999996\n"
     ]
    }
   ],
   "source": [
    "mse(y_true,y_pred)"
   ]
  },
  {
   "cell_type": "code",
   "execution_count": 24,
   "id": "21d8dda5",
   "metadata": {},
   "outputs": [
    {
     "data": {
      "text/plain": [
       "0.49399999999999994"
      ]
     },
     "execution_count": 24,
     "metadata": {},
     "output_type": "execute_result"
    }
   ],
   "source": [
    "#Mean Absolute Error using Numpy\n",
    "np.mean(np.abs(y_true-y_pred))"
   ]
  },
  {
   "cell_type": "code",
   "execution_count": 25,
   "id": "defe756d",
   "metadata": {},
   "outputs": [
    {
     "data": {
      "text/plain": [
       "0.35297999999999996"
      ]
     },
     "execution_count": 25,
     "metadata": {},
     "output_type": "execute_result"
    }
   ],
   "source": [
    "#Mean Squared Error using Numpy \n",
    "np.mean(np.abs(y_true-y_pred)**2)"
   ]
  },
  {
   "cell_type": "code",
   "execution_count": 30,
   "id": "aff64789",
   "metadata": {},
   "outputs": [],
   "source": [
    "epsilon=1e-15"
   ]
  },
  {
   "cell_type": "code",
   "execution_count": 31,
   "id": "6f22b800",
   "metadata": {},
   "outputs": [],
   "source": [
    "y_predicted_new=[max(i,epsilon) for i in y_pred]"
   ]
  },
  {
   "cell_type": "code",
   "execution_count": 34,
   "id": "d7232c50",
   "metadata": {},
   "outputs": [],
   "source": [
    "y_predicted_new=[min(i,1-epsilon) for i in y_pred]\n",
    "y_predicted_new=np.array(y_predicted_new)"
   ]
  },
  {
   "cell_type": "code",
   "execution_count": 35,
   "id": "8b761495",
   "metadata": {},
   "outputs": [
    {
     "data": {
      "text/plain": [
       "-26.75674886196502"
      ]
     },
     "execution_count": 35,
     "metadata": {},
     "output_type": "execute_result"
    }
   ],
   "source": [
    "-np.mean(y_true*np.log(y_predicted_new)+(1-y_true)*np.log(1-y_predicted_new))"
   ]
  },
  {
   "cell_type": "code",
   "execution_count": 38,
   "id": "c7c2edac",
   "metadata": {},
   "outputs": [],
   "source": [
    "#Log Loss\n",
    "def log_loss(y_true,y_pred):\n",
    "    y_predicted_new=[max(i,epsilon) for i in y_pred]\n",
    "    y_predicted_new=[min(i,1-epsilon) for i in y_pred]\n",
    "    y_predicted_new=np.array(y_predicted_new)\n",
    "    return -np.mean(y_true*np.log(y_predicted_new)+(1-y_true)*np.log(1-y_predicted_new))"
   ]
  },
  {
   "cell_type": "code",
   "execution_count": 39,
   "id": "50cba84c",
   "metadata": {},
   "outputs": [
    {
     "data": {
      "text/plain": [
       "-26.75674886196502"
      ]
     },
     "execution_count": 39,
     "metadata": {},
     "output_type": "execute_result"
    }
   ],
   "source": [
    "log_loss(y_true,y_pred)"
   ]
  },
  {
   "cell_type": "code",
   "execution_count": null,
   "id": "198e40ef",
   "metadata": {},
   "outputs": [],
   "source": []
  }
 ],
 "metadata": {
  "kernelspec": {
   "display_name": "Python 3",
   "language": "python",
   "name": "python3"
  },
  "language_info": {
   "codemirror_mode": {
    "name": "ipython",
    "version": 3
   },
   "file_extension": ".py",
   "mimetype": "text/x-python",
   "name": "python",
   "nbconvert_exporter": "python",
   "pygments_lexer": "ipython3",
   "version": "3.8.8"
  }
 },
 "nbformat": 4,
 "nbformat_minor": 5
}
