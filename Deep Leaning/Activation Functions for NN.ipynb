{
 "cells": [
  {
   "cell_type": "code",
   "execution_count": 1,
   "id": "aa8c2ec2",
   "metadata": {},
   "outputs": [],
   "source": [
    "import math"
   ]
  },
  {
   "cell_type": "code",
   "execution_count": 4,
   "id": "352df724",
   "metadata": {},
   "outputs": [],
   "source": [
    "#Sigmoid Function\n",
    "def sigmoid(x):\n",
    "    return 1/(1+math.exp(-x))\n",
    "#returns the value in between 0 and 1"
   ]
  },
  {
   "cell_type": "code",
   "execution_count": 6,
   "id": "67ebdfe5",
   "metadata": {},
   "outputs": [
    {
     "data": {
      "text/plain": [
       "0.9999546021312976"
      ]
     },
     "execution_count": 6,
     "metadata": {},
     "output_type": "execute_result"
    }
   ],
   "source": [
    "sigmoid(10)"
   ]
  },
  {
   "cell_type": "code",
   "execution_count": 7,
   "id": "849fc61b",
   "metadata": {},
   "outputs": [],
   "source": [
    "#tanh Function\n",
    "def tanh(x):\n",
    "    return (math.exp(x)-math.exp(-x))/(math.exp(x)+math.exp(-x))\n",
    "#return the values in between -1 and 1"
   ]
  },
  {
   "cell_type": "code",
   "execution_count": 8,
   "id": "bda9b458",
   "metadata": {},
   "outputs": [
    {
     "data": {
      "text/plain": [
       "-0.964027580075817"
      ]
     },
     "execution_count": 8,
     "metadata": {},
     "output_type": "execute_result"
    }
   ],
   "source": [
    "tanh(-2)"
   ]
  },
  {
   "cell_type": "code",
   "execution_count": 9,
   "id": "7148edf8",
   "metadata": {},
   "outputs": [],
   "source": [
    "#ReLU Function\n",
    "def relu(x):\n",
    "    return max(0,x)\n",
    "#returns the value as 0 if x is negative or else return x as is"
   ]
  },
  {
   "cell_type": "code",
   "execution_count": 10,
   "id": "ea653788",
   "metadata": {},
   "outputs": [
    {
     "data": {
      "text/plain": [
       "0"
      ]
     },
     "execution_count": 10,
     "metadata": {},
     "output_type": "execute_result"
    }
   ],
   "source": [
    "relu(-1)"
   ]
  },
  {
   "cell_type": "code",
   "execution_count": 11,
   "id": "e9f51976",
   "metadata": {},
   "outputs": [
    {
     "data": {
      "text/plain": [
       "3"
      ]
     },
     "execution_count": 11,
     "metadata": {},
     "output_type": "execute_result"
    }
   ],
   "source": [
    "relu(3)"
   ]
  },
  {
   "cell_type": "code",
   "execution_count": null,
   "id": "a601632d",
   "metadata": {},
   "outputs": [],
   "source": []
  }
 ],
 "metadata": {
  "kernelspec": {
   "display_name": "Python 3",
   "language": "python",
   "name": "python3"
  },
  "language_info": {
   "codemirror_mode": {
    "name": "ipython",
    "version": 3
   },
   "file_extension": ".py",
   "mimetype": "text/x-python",
   "name": "python",
   "nbconvert_exporter": "python",
   "pygments_lexer": "ipython3",
   "version": "3.8.8"
  }
 },
 "nbformat": 4,
 "nbformat_minor": 5
}
